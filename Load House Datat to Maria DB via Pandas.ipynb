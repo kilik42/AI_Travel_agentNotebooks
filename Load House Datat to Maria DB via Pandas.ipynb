{
 "cells": [
  {
   "cell_type": "code",
   "execution_count": 1,
   "id": "863de5dd-55e1-4ba7-a579-0bfcb7bfff20",
   "metadata": {},
   "outputs": [],
   "source": [
    "#get our database url\n",
    "# create db engine via sqlalchemy\n"
   ]
  },
  {
   "cell_type": "code",
   "execution_count": 2,
   "id": "fd581d51-c5ef-4250-a93f-fcc8bda030ac",
   "metadata": {},
   "outputs": [],
   "source": [
    "from env import config, BASE_DIR\n",
    "from sqlalchemy import create_engine, text\n"
   ]
  },
  {
   "cell_type": "code",
   "execution_count": 3,
   "id": "bb3354e2-2a9f-4c92-bb64-2fa23af5c850",
   "metadata": {},
   "outputs": [],
   "source": [
    "DATABASE_URL = config(\"HOUSING_DATABASE_URL\", cast=str, default=None)"
   ]
  },
  {
   "cell_type": "code",
   "execution_count": 4,
   "id": "05d2a846-4c34-4fe5-96ba-ea13b160ff68",
   "metadata": {},
   "outputs": [
    {
     "data": {
      "text/plain": [
       "True"
      ]
     },
     "execution_count": 4,
     "metadata": {},
     "output_type": "execute_result"
    }
   ],
   "source": [
    "DATABASE_URL is not None"
   ]
  },
  {
   "cell_type": "code",
   "execution_count": 5,
   "id": "c7c98dc5-b91d-43dd-b37d-b6364b484564",
   "metadata": {},
   "outputs": [],
   "source": [
    "engine = create_engine(DATABASE_URL)"
   ]
  },
  {
   "cell_type": "code",
   "execution_count": 6,
   "id": "e2a6b458-3797-41a9-ad8d-39b708e1e112",
   "metadata": {},
   "outputs": [
    {
     "data": {
      "text/plain": [
       "True"
      ]
     },
     "execution_count": 6,
     "metadata": {},
     "output_type": "execute_result"
    }
   ],
   "source": [
    "DATASET_DIR = BASE_DIR / \"datasets\"\n",
    "DATASET_DIR.exists()"
   ]
  },
  {
   "cell_type": "code",
   "execution_count": 7,
   "id": "f9dcf3a5-b310-4220-b5ab-dea6a74a9566",
   "metadata": {},
   "outputs": [
    {
     "data": {
      "text/plain": [
       "True"
      ]
     },
     "execution_count": 7,
     "metadata": {},
     "output_type": "execute_result"
    }
   ],
   "source": [
    "HOUSES_CSV = DATASET_DIR / \"housing_ds3.csv\"\n",
    "HOUSES_CSV.exists()"
   ]
  },
  {
   "cell_type": "code",
   "execution_count": 8,
   "id": "39b14bf6-9305-4f1b-ac7f-b62b0423964f",
   "metadata": {},
   "outputs": [],
   "source": [
    "import pandas as pd"
   ]
  },
  {
   "cell_type": "code",
   "execution_count": 9,
   "id": "7168976f-e351-4509-9292-364d37df487c",
   "metadata": {},
   "outputs": [
    {
     "data": {
      "text/html": [
       "<div>\n",
       "<style scoped>\n",
       "    .dataframe tbody tr th:only-of-type {\n",
       "        vertical-align: middle;\n",
       "    }\n",
       "\n",
       "    .dataframe tbody tr th {\n",
       "        vertical-align: top;\n",
       "    }\n",
       "\n",
       "    .dataframe thead th {\n",
       "        text-align: right;\n",
       "    }\n",
       "</style>\n",
       "<table border=\"1\" class=\"dataframe\">\n",
       "  <thead>\n",
       "    <tr style=\"text-align: right;\">\n",
       "      <th></th>\n",
       "      <th>saledate</th>\n",
       "      <th>MA</th>\n",
       "      <th>type</th>\n",
       "      <th>bedrooms</th>\n",
       "    </tr>\n",
       "  </thead>\n",
       "  <tbody>\n",
       "    <tr>\n",
       "      <th>0</th>\n",
       "      <td>30/09/2007</td>\n",
       "      <td>441854</td>\n",
       "      <td>house</td>\n",
       "      <td>2</td>\n",
       "    </tr>\n",
       "    <tr>\n",
       "      <th>1</th>\n",
       "      <td>31/12/2007</td>\n",
       "      <td>441854</td>\n",
       "      <td>house</td>\n",
       "      <td>2</td>\n",
       "    </tr>\n",
       "    <tr>\n",
       "      <th>2</th>\n",
       "      <td>31/03/2008</td>\n",
       "      <td>441854</td>\n",
       "      <td>house</td>\n",
       "      <td>2</td>\n",
       "    </tr>\n",
       "    <tr>\n",
       "      <th>3</th>\n",
       "      <td>30/06/2008</td>\n",
       "      <td>441854</td>\n",
       "      <td>house</td>\n",
       "      <td>2</td>\n",
       "    </tr>\n",
       "    <tr>\n",
       "      <th>4</th>\n",
       "      <td>30/09/2008</td>\n",
       "      <td>451583</td>\n",
       "      <td>house</td>\n",
       "      <td>2</td>\n",
       "    </tr>\n",
       "    <tr>\n",
       "      <th>5</th>\n",
       "      <td>31/12/2008</td>\n",
       "      <td>440256</td>\n",
       "      <td>house</td>\n",
       "      <td>2</td>\n",
       "    </tr>\n",
       "    <tr>\n",
       "      <th>6</th>\n",
       "      <td>31/03/2009</td>\n",
       "      <td>442566</td>\n",
       "      <td>house</td>\n",
       "      <td>2</td>\n",
       "    </tr>\n",
       "    <tr>\n",
       "      <th>7</th>\n",
       "      <td>30/06/2009</td>\n",
       "      <td>446113</td>\n",
       "      <td>house</td>\n",
       "      <td>2</td>\n",
       "    </tr>\n",
       "    <tr>\n",
       "      <th>8</th>\n",
       "      <td>30/09/2009</td>\n",
       "      <td>440123</td>\n",
       "      <td>house</td>\n",
       "      <td>2</td>\n",
       "    </tr>\n",
       "    <tr>\n",
       "      <th>9</th>\n",
       "      <td>31/12/2009</td>\n",
       "      <td>442131</td>\n",
       "      <td>house</td>\n",
       "      <td>2</td>\n",
       "    </tr>\n",
       "  </tbody>\n",
       "</table>\n",
       "</div>"
      ],
      "text/plain": [
       "     saledate      MA   type  bedrooms\n",
       "0  30/09/2007  441854  house         2\n",
       "1  31/12/2007  441854  house         2\n",
       "2  31/03/2008  441854  house         2\n",
       "3  30/06/2008  441854  house         2\n",
       "4  30/09/2008  451583  house         2\n",
       "5  31/12/2008  440256  house         2\n",
       "6  31/03/2009  442566  house         2\n",
       "7  30/06/2009  446113  house         2\n",
       "8  30/09/2009  440123  house         2\n",
       "9  31/12/2009  442131  house         2"
      ]
     },
     "execution_count": 9,
     "metadata": {},
     "output_type": "execute_result"
    }
   ],
   "source": [
    "df = pd.read_csv(str(HOUSES_CSV))\n",
    "df.head(n=10)"
   ]
  },
  {
   "cell_type": "code",
   "execution_count": 10,
   "id": "525f1fe7-1f9e-4a18-a879-97255c7c5f99",
   "metadata": {},
   "outputs": [
    {
     "data": {
      "text/plain": [
       "saledate    object\n",
       "MA           int64\n",
       "type        object\n",
       "bedrooms     int64\n",
       "dtype: object"
      ]
     },
     "execution_count": 10,
     "metadata": {},
     "output_type": "execute_result"
    }
   ],
   "source": [
    "df.dtypes"
   ]
  },
  {
   "cell_type": "code",
   "execution_count": 11,
   "id": "974ff2fd-2f98-4545-8e6f-f2904e3b98ed",
   "metadata": {},
   "outputs": [],
   "source": [
    "df['date'] = pd.to_datetime(df['saledate'], format=\"%d/%m/%Y\")\n",
    "df['price'] = df['MA']"
   ]
  },
  {
   "cell_type": "code",
   "execution_count": 12,
   "id": "94ca42da-1912-4f14-9b45-175a75533324",
   "metadata": {},
   "outputs": [
    {
     "data": {
      "text/plain": [
       "saledate            object\n",
       "MA                   int64\n",
       "type                object\n",
       "bedrooms             int64\n",
       "date        datetime64[ns]\n",
       "price                int64\n",
       "dtype: object"
      ]
     },
     "execution_count": 12,
     "metadata": {},
     "output_type": "execute_result"
    }
   ],
   "source": [
    "df.dtypes"
   ]
  },
  {
   "cell_type": "code",
   "execution_count": 13,
   "id": "f4f67403-387f-4362-8b44-eaac077c3854",
   "metadata": {},
   "outputs": [
    {
     "data": {
      "text/html": [
       "<div>\n",
       "<style scoped>\n",
       "    .dataframe tbody tr th:only-of-type {\n",
       "        vertical-align: middle;\n",
       "    }\n",
       "\n",
       "    .dataframe tbody tr th {\n",
       "        vertical-align: top;\n",
       "    }\n",
       "\n",
       "    .dataframe thead th {\n",
       "        text-align: right;\n",
       "    }\n",
       "</style>\n",
       "<table border=\"1\" class=\"dataframe\">\n",
       "  <thead>\n",
       "    <tr style=\"text-align: right;\">\n",
       "      <th></th>\n",
       "      <th>date</th>\n",
       "      <th>price</th>\n",
       "      <th>type</th>\n",
       "      <th>bedrooms</th>\n",
       "    </tr>\n",
       "  </thead>\n",
       "  <tbody>\n",
       "    <tr>\n",
       "      <th>0</th>\n",
       "      <td>2007-09-30</td>\n",
       "      <td>441854</td>\n",
       "      <td>house</td>\n",
       "      <td>2</td>\n",
       "    </tr>\n",
       "    <tr>\n",
       "      <th>1</th>\n",
       "      <td>2007-12-31</td>\n",
       "      <td>441854</td>\n",
       "      <td>house</td>\n",
       "      <td>2</td>\n",
       "    </tr>\n",
       "    <tr>\n",
       "      <th>2</th>\n",
       "      <td>2008-03-31</td>\n",
       "      <td>441854</td>\n",
       "      <td>house</td>\n",
       "      <td>2</td>\n",
       "    </tr>\n",
       "    <tr>\n",
       "      <th>3</th>\n",
       "      <td>2008-06-30</td>\n",
       "      <td>441854</td>\n",
       "      <td>house</td>\n",
       "      <td>2</td>\n",
       "    </tr>\n",
       "    <tr>\n",
       "      <th>4</th>\n",
       "      <td>2008-09-30</td>\n",
       "      <td>451583</td>\n",
       "      <td>house</td>\n",
       "      <td>2</td>\n",
       "    </tr>\n",
       "    <tr>\n",
       "      <th>...</th>\n",
       "      <td>...</td>\n",
       "      <td>...</td>\n",
       "      <td>...</td>\n",
       "      <td>...</td>\n",
       "    </tr>\n",
       "    <tr>\n",
       "      <th>342</th>\n",
       "      <td>2018-09-30</td>\n",
       "      <td>603281</td>\n",
       "      <td>unit</td>\n",
       "      <td>3</td>\n",
       "    </tr>\n",
       "    <tr>\n",
       "      <th>343</th>\n",
       "      <td>2018-12-31</td>\n",
       "      <td>601167</td>\n",
       "      <td>unit</td>\n",
       "      <td>3</td>\n",
       "    </tr>\n",
       "    <tr>\n",
       "      <th>344</th>\n",
       "      <td>2019-03-31</td>\n",
       "      <td>605637</td>\n",
       "      <td>unit</td>\n",
       "      <td>3</td>\n",
       "    </tr>\n",
       "    <tr>\n",
       "      <th>345</th>\n",
       "      <td>2019-06-30</td>\n",
       "      <td>599339</td>\n",
       "      <td>unit</td>\n",
       "      <td>3</td>\n",
       "    </tr>\n",
       "    <tr>\n",
       "      <th>346</th>\n",
       "      <td>2019-09-30</td>\n",
       "      <td>597884</td>\n",
       "      <td>unit</td>\n",
       "      <td>3</td>\n",
       "    </tr>\n",
       "  </tbody>\n",
       "</table>\n",
       "<p>347 rows × 4 columns</p>\n",
       "</div>"
      ],
      "text/plain": [
       "          date   price   type  bedrooms\n",
       "0   2007-09-30  441854  house         2\n",
       "1   2007-12-31  441854  house         2\n",
       "2   2008-03-31  441854  house         2\n",
       "3   2008-06-30  441854  house         2\n",
       "4   2008-09-30  451583  house         2\n",
       "..         ...     ...    ...       ...\n",
       "342 2018-09-30  603281   unit         3\n",
       "343 2018-12-31  601167   unit         3\n",
       "344 2019-03-31  605637   unit         3\n",
       "345 2019-06-30  599339   unit         3\n",
       "346 2019-09-30  597884   unit         3\n",
       "\n",
       "[347 rows x 4 columns]"
      ]
     },
     "execution_count": 13,
     "metadata": {},
     "output_type": "execute_result"
    }
   ],
   "source": [
    "out_df = df.copy()[['date', 'price','type', 'bedrooms']]\n",
    "out_df"
   ]
  },
  {
   "cell_type": "code",
   "execution_count": 14,
   "id": "f2206f32-774d-430f-9dea-86554d3e21c7",
   "metadata": {},
   "outputs": [
    {
     "data": {
      "text/plain": [
       "347"
      ]
     },
     "execution_count": 14,
     "metadata": {},
     "output_type": "execute_result"
    }
   ],
   "source": [
    "table_name = \"kaggle_house_data\"\n",
    "df.to_sql(table_name, engine, if_exists='replace', index=False)"
   ]
  },
  {
   "cell_type": "code",
   "execution_count": 15,
   "id": "5a80bdba-ebd6-4b9e-a205-2c153eeaf960",
   "metadata": {},
   "outputs": [
    {
     "name": "stdout",
     "output_type": "stream",
     "text": [
      "[('30/09/2007', 441854, 'house', 2, datetime.datetime(2007, 9, 30, 0, 0), 441854), ('31/12/2007', 441854, 'house', 2, datetime.datetime(2007, 12, 31, 0, 0), 441854), ('31/03/2008', 441854, 'house', 2, datetime.datetime(2008, 3, 31, 0, 0), 441854), ('30/06/2008', 441854, 'house', 2, datetime.datetime(2008, 6, 30, 0, 0), 441854), ('30/09/2008', 451583, 'house', 2, datetime.datetime(2008, 9, 30, 0, 0), 451583), ('31/12/2008', 440256, 'house', 2, datetime.datetime(2008, 12, 31, 0, 0), 440256), ('31/03/2009', 442566, 'house', 2, datetime.datetime(2009, 3, 31, 0, 0), 442566), ('30/06/2009', 446113, 'house', 2, datetime.datetime(2009, 6, 30, 0, 0), 446113), ('30/09/2009', 440123, 'house', 2, datetime.datetime(2009, 9, 30, 0, 0), 440123), ('31/12/2009', 442131, 'house', 2, datetime.datetime(2009, 12, 31, 0, 0), 442131)]\n"
     ]
    }
   ],
   "source": [
    "with engine.connect() as conn:\n",
    "    results = conn.execute(text(f\"SELECT * from {table_name} LIMIT 10\"))\n",
    "    print(results.all())\n",
    "    "
   ]
  },
  {
   "cell_type": "code",
   "execution_count": null,
   "id": "c035c0f6-c837-4f75-ab2d-d50efd56d103",
   "metadata": {},
   "outputs": [],
   "source": []
  }
 ],
 "metadata": {
  "kernelspec": {
   "display_name": "Python 3 (ipykernel)",
   "language": "python",
   "name": "python3"
  },
  "language_info": {
   "codemirror_mode": {
    "name": "ipython",
    "version": 3
   },
   "file_extension": ".py",
   "mimetype": "text/x-python",
   "name": "python",
   "nbconvert_exporter": "python",
   "pygments_lexer": "ipython3",
   "version": "3.11.2"
  }
 },
 "nbformat": 4,
 "nbformat_minor": 5
}
