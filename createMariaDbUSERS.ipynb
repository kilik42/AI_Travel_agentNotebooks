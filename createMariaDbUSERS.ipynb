{
 "cells": [
  {
   "cell_type": "code",
   "execution_count": null,
   "id": "863de5dd-55e1-4ba7-a579-0bfcb7bfff20",
   "metadata": {},
   "outputs": [],
   "source": [
    "#get our database url\n",
    "# create db engine via sqlalchemy\n"
   ]
  },
  {
   "cell_type": "code",
   "execution_count": null,
   "id": "fd581d51-c5ef-4250-a93f-fcc8bda030ac",
   "metadata": {},
   "outputs": [],
   "source": [
    "from env import config\n",
    "from getpass import getpass\n",
    "from sqlalchemy import create_engine, text\n"
   ]
  },
  {
   "cell_type": "code",
   "execution_count": null,
   "id": "bb3354e2-2a9f-4c92-bb64-2fa23af5c850",
   "metadata": {},
   "outputs": [],
   "source": [
    "DATABASE_URL = config(\"HOUSING_DATABASE_URL\", cast=str, default=None)"
   ]
  },
  {
   "cell_type": "code",
   "execution_count": null,
   "id": "05d2a846-4c34-4fe5-96ba-ea13b160ff68",
   "metadata": {},
   "outputs": [],
   "source": [
    "DATABASE_URL is not None"
   ]
  },
  {
   "cell_type": "code",
   "execution_count": null,
   "id": "c7c98dc5-b91d-43dd-b37d-b6364b484564",
   "metadata": {},
   "outputs": [],
   "source": [
    "engine = create_engine(str(DATABASE_URL))"
   ]
  },
  {
   "cell_type": "code",
   "execution_count": null,
   "id": "07249316-964f-4c95-8547-73b4dad4ffa9",
   "metadata": {},
   "outputs": [],
   "source": [
    "new_username = \"mindsdb\"\n",
    "new_password = getpass()"
   ]
  },
  {
   "cell_type": "code",
   "execution_count": null,
   "id": "65637a0c-610f-499b-b035-52530e2491ba",
   "metadata": {},
   "outputs": [],
   "source": [
    "dbs = [\"housing_db\", \"ai_travel_prices\"]\n",
    "with engine.connect() as conn:\n",
    "    create_user_sql = f\"CREATE USER '{new_username}'@'%' IDENTIFIED BY '{new_password}';\"\n",
    "    conn.execute(text(create_user_sql))\n",
    "\n",
    "    for db in dbs:\n",
    "        db_sql_perms = f\"GRANT ALL PRIVILEGES on {db}.* TO '{new_username}'@'%';\"\n",
    "        conn.execute(text(db_sql_perms))\n",
    "    db_sql_new_dbs = f\"GRANT CREATE ON *.* to '{new_username}'@'%';\"\n",
    "    conn.execute(text(db_sql_new_dbs))\n",
    "    conn.execute(text(\"FLUSH PRIVILEGES;\"))"
   ]
  },
  {
   "cell_type": "code",
   "execution_count": null,
   "id": "8b02c4eb-19d5-43ec-b27f-1377dc6d681d",
   "metadata": {},
   "outputs": [],
   "source": [
    "with engine.connect() as conn:\n",
    "    results = conn.execute(text(f\"SHOW DATABASES\"))\n",
    "    print(results.all())"
   ]
  },
  {
   "cell_type": "code",
   "execution_count": null,
   "id": "f9dcf3a5-b310-4220-b5ab-dea6a74a9566",
   "metadata": {},
   "outputs": [],
   "source": []
  }
 ],
 "metadata": {
  "kernelspec": {
   "display_name": "Python 3 (ipykernel)",
   "language": "python",
   "name": "python3"
  },
  "language_info": {
   "codemirror_mode": {
    "name": "ipython",
    "version": 3
   },
   "file_extension": ".py",
   "mimetype": "text/x-python",
   "name": "python",
   "nbconvert_exporter": "python",
   "pygments_lexer": "ipython3",
   "version": "3.11.2"
  }
 },
 "nbformat": 4,
 "nbformat_minor": 5
}
