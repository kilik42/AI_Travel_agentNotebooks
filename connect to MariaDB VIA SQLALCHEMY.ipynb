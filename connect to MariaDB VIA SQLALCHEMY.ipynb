{
 "cells": [
  {
   "cell_type": "code",
   "execution_count": null,
   "id": "863de5dd-55e1-4ba7-a579-0bfcb7bfff20",
   "metadata": {},
   "outputs": [],
   "source": [
    "#get our database url\n",
    "# create db engine via sqlalchemy\n"
   ]
  },
  {
   "cell_type": "code",
   "execution_count": null,
   "id": "fd581d51-c5ef-4250-a93f-fcc8bda030ac",
   "metadata": {},
   "outputs": [],
   "source": [
    "from env import config\n",
    "from sqlalchemy import create_engine, text\n"
   ]
  },
  {
   "cell_type": "code",
   "execution_count": null,
   "id": "bb3354e2-2a9f-4c92-bb64-2fa23af5c850",
   "metadata": {},
   "outputs": [],
   "source": [
    "DATABASE_URL = config(\"DATABASE_URL\", cast=str, default=None)"
   ]
  },
  {
   "cell_type": "code",
   "execution_count": null,
   "id": "05d2a846-4c34-4fe5-96ba-ea13b160ff68",
   "metadata": {},
   "outputs": [],
   "source": [
    "DATABASE_URL is not None"
   ]
  },
  {
   "cell_type": "code",
   "execution_count": null,
   "id": "c7c98dc5-b91d-43dd-b37d-b6364b484564",
   "metadata": {},
   "outputs": [],
   "source": [
    "engine = create_engine(DATABASE_URL)"
   ]
  },
  {
   "cell_type": "code",
   "execution_count": null,
   "id": "e2a6b458-3797-41a9-ad8d-39b708e1e112",
   "metadata": {},
   "outputs": [],
   "source": [
    "DB_NAME = \"housing_db\"\n",
    "with engine.connect() as conn:\n",
    "    conn.execute(text(f\"CREATE DATABASE {DB_NAME}\"))\n",
    "    "
   ]
  },
  {
   "cell_type": "code",
   "execution_count": null,
   "id": "db1ef14d-85c1-482c-98f7-98d727e5ff12",
   "metadata": {},
   "outputs": [],
   "source": [
    "DB_NAME2 = \"ai_travel_prices\"\n",
    "with engine.connect() as conn:\n",
    "    conn.execute(text(f\"CREATE DATABASE {DB_NAME2}\"))"
   ]
  },
  {
   "cell_type": "code",
   "execution_count": null,
   "id": "059c1318-910c-434b-85bf-5a16d2cc9034",
   "metadata": {},
   "outputs": [],
   "source": [
    "# DB_NAME2 = \"ai_travel_prices\"\n",
    "# with engine.connect() as conn:\n",
    "#     conn.execute(text(f\"DROP DATABASE {DB_NAME2}\"))"
   ]
  },
  {
   "cell_type": "code",
   "execution_count": null,
   "id": "8b02c4eb-19d5-43ec-b27f-1377dc6d681d",
   "metadata": {},
   "outputs": [],
   "source": [
    "with engine.connect() as conn:\n",
    "    results = conn.execute(text(f\"SHOW DATABASES\"))\n",
    "    print(results.all())"
   ]
  },
  {
   "cell_type": "code",
   "execution_count": null,
   "id": "f9dcf3a5-b310-4220-b5ab-dea6a74a9566",
   "metadata": {},
   "outputs": [],
   "source": []
  },
  {
   "cell_type": "code",
   "execution_count": null,
   "id": "465edb3d-c360-4182-8c50-bc43f4f5461f",
   "metadata": {},
   "outputs": [],
   "source": []
  }
 ],
 "metadata": {
  "kernelspec": {
   "display_name": "Python 3 (ipykernel)",
   "language": "python",
   "name": "python3"
  },
  "language_info": {
   "codemirror_mode": {
    "name": "ipython",
    "version": 3
   },
   "file_extension": ".py",
   "mimetype": "text/x-python",
   "name": "python",
   "nbconvert_exporter": "python",
   "pygments_lexer": "ipython3",
   "version": "3.11.2"
  }
 },
 "nbformat": 4,
 "nbformat_minor": 5
}
